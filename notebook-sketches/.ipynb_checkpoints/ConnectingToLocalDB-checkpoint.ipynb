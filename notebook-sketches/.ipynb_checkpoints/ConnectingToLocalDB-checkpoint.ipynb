{
 "cells": [
  {
   "cell_type": "markdown",
   "metadata": {},
   "source": [
    "# Datenbank installieren\n",
    "\n",
    "Um die MongoDB zum laufen zu bringen muss man zunächst **mongodb** installieren. Am besten nimmt man die aktuelle version vom MongoDB repository, dazu folgendes im terminal eingeben:\n",
    "\n",
    "sudo apt-key adv --keyserver hkp://keyserver.ubuntu.com:80 --recv 0C49F3730359A14518585931BC711F9BA15703C6\n",
    "\n",
    "echo \"deb [ arch=amd64,arm64 ] http://repo.mongodb.org/apt/ubuntu xenial/mongodb-org/3.4 multiverse\" | sudo tee /etc/apt/sources.list.d/mongodb-org-3.4.list\n",
    "\n",
    "sudo apt-get update\n",
    "\n",
    "sudo apt-get install -y mongodb-org\n",
    "\n",
    "# Datenbank starten\n",
    "\n",
    "Die datenbank wird über **mongod** gestartet. Wahrscheinlich muss man das mit sudo ausführen. \n",
    "\n",
    "Wenn **mongod** einfach so ausgeführt wird, dann landet die datenbank im Verzeichnis */data/db*, und wenn es nicht existiert dann beschwert sich der befehl.\n",
    "\n",
    "Ein anderes Verzeichnis kann man über die option --dbpath < PATH > festlegen.\n",
    "\n",
    "\n",
    "Um die runtergeladene Datei in der datenbank zu verwenden muss diese restored werden. Dazu muss man sie nicht selbst mit gzip entpacken.\n",
    "\n",
    "mongorestore --gzip --archive=smartshark_test20170112.gz --db smartshark_test --host < HOST > --port < PORT > \n",
    "\n",
    "Danach sollte es funktionieren, bin aber bis jetzt noch nicht soweit gekommen, da das restore recht lange dauert.\n",
    "\n",
    "*(Für Nils: Ich bezweifle, dass man die Datenbank aufm CIP-Pool zum laufen bringen kann, da man root-Rechte braucht, und die Datei am Ende ca. 11Gb groß ist (CIP-Rechner Speicher ist 3.5Gb) ) \n",
    "\n",
    "# Auf die Datenbank zugreifen\n",
    "\n",
    "Mit Python kann man über die library **pymongo** auf eine MongoDB zugreifen. Einfach mit pip installieren.\n",
    "\n",
    "Alles weitere steht unten beschrieben.\n"
   ]
  },
  {
   "cell_type": "code",
   "execution_count": 1,
   "metadata": {
    "collapsed": true
   },
   "outputs": [],
   "source": [
    "import pymongo\n",
    "from pymongo import MongoClient"
   ]
  },
  {
   "cell_type": "code",
   "execution_count": 17,
   "metadata": {
    "collapsed": false
   },
   "outputs": [],
   "source": [
    "client = MongoClient('localhost',27017) \n",
    "#''' Die Zahl steht für den Port auf dem die Datenbank empfängt, der sollte immer 27017 sein, wenn man ihn ändern\n",
    "#    will muss man mongod --port XXXXX zum starten der datenbank eingeben.\n",
    "#'''"
   ]
  },
  {
   "cell_type": "markdown",
   "metadata": {},
   "source": [
    "Hier sollten die Namen der in der mongod stehenden Datenbanken angezeigt werden. Einer davon sollte smartshark_test heißen. *Hinweis: wenn man versucht über client[ 'xxx' ] auf die Datenbank zuzugreifen, wird automatisch eine Datenbank 'xxx' angelegt. Wenn beim ersten aufrufen kein smartshark in den names steht, dann gibt es diese nicht in der mongod instance.*"
   ]
  },
  {
   "cell_type": "code",
   "execution_count": 3,
   "metadata": {
    "collapsed": false,
    "scrolled": true
   },
   "outputs": [
    {
     "name": "stdout",
     "output_type": "stream",
     "text": [
      "[u'local', u'smartshark_test']\n"
     ]
    }
   ],
   "source": [
    "print(client.database_names())"
   ]
  },
  {
   "cell_type": "markdown",
   "metadata": {},
   "source": [
    "Hier wird die datenbank als db aufgerufen"
   ]
  },
  {
   "cell_type": "code",
   "execution_count": 4,
   "metadata": {
    "collapsed": false
   },
   "outputs": [],
   "source": [
    "db = client['smartshark_test']"
   ]
  },
  {
   "cell_type": "markdown",
   "metadata": {},
   "source": [
    "Hier werden alle Collections der Datenbank ausgegeben."
   ]
  },
  {
   "cell_type": "code",
   "execution_count": 5,
   "metadata": {
    "collapsed": false
   },
   "outputs": [
    {
     "name": "stdout",
     "output_type": "stream",
     "text": [
      "[u'vcs_system', u'issue_system', u'code_entity_state', u'code_group_state', u'event', u'file', u'issue', u'project', u'commit', u'issue_comment', u'tag', u'hunk', u'file_action', u'plugin_schema', u'people', u'mailing_list', u'message', u'clone_instance']\n"
     ]
    }
   ],
   "source": [
    "print(db.collection_names())"
   ]
  },
  {
   "cell_type": "markdown",
   "metadata": {},
   "source": [
    "Collection people wird ausgewählt"
   ]
  },
  {
   "cell_type": "code",
   "execution_count": 6,
   "metadata": {
    "collapsed": true
   },
   "outputs": [],
   "source": [
    "people = db['people']"
   ]
  },
  {
   "cell_type": "markdown",
   "metadata": {},
   "source": [
    "Einfache query funktionen"
   ]
  },
  {
   "cell_type": "code",
   "execution_count": 7,
   "metadata": {
    "collapsed": false
   },
   "outputs": [
    {
     "data": {
      "text/plain": [
       "{u'_id': ObjectId('5853f9f6bb982c643e11cc43'),\n",
       " u'email': u'zookeeper-user@hadoop.apache.org',\n",
       " u'name': u'zookeeper-user',\n",
       " u'username': u'zookeeper-user'}"
      ]
     },
     "execution_count": 7,
     "metadata": {},
     "output_type": "execute_result"
    }
   ],
   "source": [
    "people.find_one()"
   ]
  },
  {
   "cell_type": "code",
   "execution_count": 15,
   "metadata": {
    "collapsed": true
   },
   "outputs": [],
   "source": [
    "import pprint\n",
    "import datetime"
   ]
  },
  {
   "cell_type": "code",
   "execution_count": 9,
   "metadata": {
    "collapsed": false
   },
   "outputs": [],
   "source": [
    "commits = db['commit']"
   ]
  },
  {
   "cell_type": "code",
   "execution_count": 13,
   "metadata": {
    "collapsed": false,
    "scrolled": true
   },
   "outputs": [
    {
     "data": {
      "text/plain": [
       "{u'_id': ObjectId('5853eb373ee1b95d618826ef'),\n",
       " u'author_date': datetime.datetime(2012, 9, 21, 23, 4, 23),\n",
       " u'author_date_offset': 0,\n",
       " u'author_id': ObjectId('5853eb373ee1b95d618826f0'),\n",
       " u'branches': [u'refs/remotes/origin/branch-3.3'],\n",
       " u'committer_date': datetime.datetime(2012, 9, 21, 23, 4, 23),\n",
       " u'committer_date_offset': 0,\n",
       " u'committer_id': ObjectId('5853eb373ee1b95d618826f0'),\n",
       " u'message': u'ZOOKEEPER-1376. zkServer.sh does not correctly check for $SERVER_JVMFLAGS (Skye W-M via henryr)\\n\\ngit-svn-id: https://svn.apache.org/repos/asf/zookeeper/branches/branch-3.3@1388719 13f79535-47bb-0310-9956-ffa450edef68\\n',\n",
       " u'parents': [u'e4f791598a33d683e24a828ae173a41ca7f8ab68'],\n",
       " u'revision_hash': u'314a55237b3e6134eaa12818a195abe73a99ee79',\n",
       " u'vcs_system_id': ObjectId('5853eb4aa737aab0c0c42518')}"
      ]
     },
     "execution_count": 13,
     "metadata": {},
     "output_type": "execute_result"
    }
   ],
   "source": [
    "commits.find_one()"
   ]
  },
  {
   "cell_type": "code",
   "execution_count": 16,
   "metadata": {
    "collapsed": false
   },
   "outputs": [
    {
     "name": "stdout",
     "output_type": "stream",
     "text": [
      "{u'_id': ObjectId('5853eb373ee1b95d618826ef'),\n",
      " u'author_date': datetime.datetime(2012, 9, 21, 23, 4, 23),\n",
      " u'author_date_offset': 0,\n",
      " u'author_id': ObjectId('5853eb373ee1b95d618826f0'),\n",
      " u'branches': [u'refs/remotes/origin/branch-3.3'],\n",
      " u'committer_date': datetime.datetime(2012, 9, 21, 23, 4, 23),\n",
      " u'committer_date_offset': 0,\n",
      " u'committer_id': ObjectId('5853eb373ee1b95d618826f0'),\n",
      " u'message': u'ZOOKEEPER-1376. zkServer.sh does not correctly check for $SERVER_JVMFLAGS (Skye W-M via henryr)\\n\\ngit-svn-id: https://svn.apache.org/repos/asf/zookeeper/branches/branch-3.3@1388719 13f79535-47bb-0310-9956-ffa450edef68\\n',\n",
      " u'parents': [u'e4f791598a33d683e24a828ae173a41ca7f8ab68'],\n",
      " u'revision_hash': u'314a55237b3e6134eaa12818a195abe73a99ee79',\n",
      " u'vcs_system_id': ObjectId('5853eb4aa737aab0c0c42518')}\n"
     ]
    }
   ],
   "source": [
    "last_commit = commits.find_one({'committer_date':datetime.datetime(2012,9,21,23,4,23)})\n",
    "pprint.pprint(last_commit)"
   ]
  },
  {
   "cell_type": "code",
   "execution_count": 11,
   "metadata": {
    "collapsed": false
   },
   "outputs": [
    {
     "data": {
      "text/plain": [
       "4585"
      ]
     },
     "execution_count": 11,
     "metadata": {},
     "output_type": "execute_result"
    }
   ],
   "source": [
    "people.count()"
   ]
  },
  {
   "cell_type": "code",
   "execution_count": null,
   "metadata": {
    "collapsed": true
   },
   "outputs": [],
   "source": []
  }
 ],
 "metadata": {
  "kernelspec": {
   "display_name": "Python 2",
   "language": "python",
   "name": "python2"
  },
  "language_info": {
   "codemirror_mode": {
    "name": "ipython",
    "version": 2
   },
   "file_extension": ".py",
   "mimetype": "text/x-python",
   "name": "python",
   "nbconvert_exporter": "python",
   "pygments_lexer": "ipython2",
   "version": "2.7.12"
  },
  "latex_envs": {
   "LaTeX_envs_menu_present": true,
   "bibliofile": "biblio.bib",
   "cite_by": "apalike",
   "current_citInitial": 1,
   "eqLabelWithNumbers": true,
   "eqNumInitial": 1,
   "labels_anchors": false,
   "latex_user_defs": false,
   "report_style_numbering": false,
   "user_envs_cfg": false
  },
  "toc": {
   "colors": {
    "hover_highlight": "#DAA520",
    "running_highlight": "#FF0000",
    "selected_highlight": "#FFD700"
   },
   "moveMenuLeft": true,
   "nav_menu": {
    "height": "12px",
    "width": "252px"
   },
   "navigate_menu": true,
   "number_sections": true,
   "sideBar": true,
   "threshold": 4,
   "toc_cell": false,
   "toc_section_display": "block",
   "toc_window_display": false
  }
 },
 "nbformat": 4,
 "nbformat_minor": 2
}
